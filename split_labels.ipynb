{
 "cells": [
  {
   "cell_type": "code",
   "execution_count": 3,
   "metadata": {},
   "outputs": [],
   "source": [
    "import numpy as np\n",
    "import pandas as pd\n",
    "np.random.seed(42)"
   ]
  },
  {
   "cell_type": "code",
   "execution_count": 4,
   "metadata": {},
   "outputs": [],
   "source": [
    "full_labels = pd.read_csv('data/dragon_labels.csv')"
   ]
  },
  {
   "cell_type": "code",
   "execution_count": 10,
   "metadata": {},
   "outputs": [
    {
     "data": {
      "text/plain": [
       "0        d_(1).png\n",
       "1       d_(10).png\n",
       "2      d_(100).png\n",
       "3      d_(101).png\n",
       "4      d_(102).png\n",
       "5      d_(103).png\n",
       "6      d_(104).png\n",
       "7      d_(105).png\n",
       "8      d_(106).png\n",
       "9      d_(107).png\n",
       "10     d_(108).png\n",
       "11     d_(109).png\n",
       "12      d_(11).png\n",
       "13      d_(11).png\n",
       "14      d_(11).png\n",
       "15      d_(11).png\n",
       "16      d_(11).png\n",
       "17      d_(11).png\n",
       "18      d_(11).png\n",
       "19      d_(11).png\n",
       "20     d_(110).png\n",
       "21     d_(111).png\n",
       "22     d_(112).png\n",
       "23     d_(113).png\n",
       "24     d_(114).png\n",
       "25     d_(115).png\n",
       "26     d_(116).png\n",
       "27     d_(117).png\n",
       "28     d_(117).png\n",
       "29     d_(117).png\n",
       "          ...     \n",
       "343     d_(66).png\n",
       "344     d_(66).png\n",
       "345     d_(67).png\n",
       "346     d_(68).png\n",
       "347     d_(69).png\n",
       "348     d_(71).png\n",
       "349     d_(72).png\n",
       "350     d_(73).png\n",
       "351     d_(74).png\n",
       "352     d_(75).png\n",
       "353     d_(76).png\n",
       "354     d_(77).png\n",
       "355      d_(8).png\n",
       "356     d_(81).png\n",
       "357     d_(82).png\n",
       "358     d_(83).png\n",
       "359     d_(83).png\n",
       "360     d_(84).png\n",
       "361     d_(85).png\n",
       "362     d_(86).png\n",
       "363     d_(88).png\n",
       "364     d_(89).png\n",
       "365      d_(9).png\n",
       "366     d_(90).png\n",
       "367     d_(91).png\n",
       "368     d_(92).png\n",
       "369     d_(94).png\n",
       "370     d_(95).png\n",
       "371     d_(96).png\n",
       "372     d_(97).png\n",
       "Name: filename, Length: 373, dtype: object"
      ]
     },
     "execution_count": 10,
     "metadata": {},
     "output_type": "execute_result"
    }
   ],
   "source": [
    "full_labels['filename']"
   ]
  },
  {
   "cell_type": "code",
   "execution_count": 5,
   "metadata": {},
   "outputs": [],
   "source": [
    "grouped = full_labels.groupby('filename')"
   ]
  },
  {
   "cell_type": "code",
   "execution_count": 6,
   "metadata": {},
   "outputs": [
    {
     "data": {
      "text/plain": [
       "1    322\n",
       "2     12\n",
       "3      3\n",
       "5      2\n",
       "8      1\n",
       "dtype: int64"
      ]
     },
     "execution_count": 6,
     "metadata": {},
     "output_type": "execute_result"
    }
   ],
   "source": [
    "grouped.apply(lambda x: len(x)).value_counts()"
   ]
  },
  {
   "cell_type": "markdown",
   "metadata": {},
   "source": [
    "### split each file into a group in a list"
   ]
  },
  {
   "cell_type": "code",
   "execution_count": 8,
   "metadata": {},
   "outputs": [],
   "source": [
    "gb = full_labels.groupby('filename')"
   ]
  },
  {
   "cell_type": "code",
   "execution_count": 9,
   "metadata": {},
   "outputs": [],
   "source": [
    "grouped_list = [gb.get_group(x) for x in gb.groups]"
   ]
  },
  {
   "cell_type": "code",
   "execution_count": 10,
   "metadata": {},
   "outputs": [
    {
     "data": {
      "text/plain": [
       "340"
      ]
     },
     "execution_count": 10,
     "metadata": {},
     "output_type": "execute_result"
    }
   ],
   "source": [
    "len(grouped_list)"
   ]
  },
  {
   "cell_type": "code",
   "execution_count": 13,
   "metadata": {},
   "outputs": [],
   "source": [
    "train_index = np.random.choice(len(grouped_list), size=272, replace=False)\n",
    "test_index = np.setdiff1d(list(range(340)), train_index)"
   ]
  },
  {
   "cell_type": "code",
   "execution_count": 14,
   "metadata": {},
   "outputs": [
    {
     "data": {
      "text/plain": [
       "(272, 68)"
      ]
     },
     "execution_count": 14,
     "metadata": {},
     "output_type": "execute_result"
    }
   ],
   "source": [
    "len(train_index), len(test_index)"
   ]
  },
  {
   "cell_type": "code",
   "execution_count": 15,
   "metadata": {},
   "outputs": [],
   "source": [
    "# take first 200 files\n",
    "train = pd.concat([grouped_list[i] for i in train_index])\n",
    "test = pd.concat([grouped_list[i] for i in test_index])"
   ]
  },
  {
   "cell_type": "code",
   "execution_count": 16,
   "metadata": {},
   "outputs": [
    {
     "data": {
      "text/plain": [
       "(298, 75)"
      ]
     },
     "execution_count": 16,
     "metadata": {},
     "output_type": "execute_result"
    }
   ],
   "source": [
    "len(train), len(test)"
   ]
  },
  {
   "cell_type": "code",
   "execution_count": 17,
   "metadata": {},
   "outputs": [],
   "source": [
    "train.to_csv('train_labels.csv', index=None)\n",
    "test.to_csv('test_labels.csv', index=None)"
   ]
  },
  {
   "cell_type": "code",
   "execution_count": null,
   "metadata": {
    "collapsed": true
   },
   "outputs": [],
   "source": []
  }
 ],
 "metadata": {
  "kernelspec": {
   "display_name": "Python 3",
   "language": "python",
   "name": "python3"
  },
  "language_info": {
   "codemirror_mode": {
    "name": "ipython",
    "version": 3
   },
   "file_extension": ".py",
   "mimetype": "text/x-python",
   "name": "python",
   "nbconvert_exporter": "python",
   "pygments_lexer": "ipython3",
   "version": "3.6.7"
  },
  "widgets": {
   "state": {},
   "version": "1.1.2"
  }
 },
 "nbformat": 4,
 "nbformat_minor": 1
}
